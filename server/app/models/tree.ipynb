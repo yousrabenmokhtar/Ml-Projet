{
 "cells": [
  {
   "cell_type": "code",
   "execution_count": null,
   "metadata": {
    "vscode": {
     "languageId": "plaintext"
    }
   },
   "outputs": [],
   "source": [
    "from sklearn.tree import DecisionTreeClassifier\n",
    "from sklearn.metrics import accuracy_score, precision_score, recall_score, f1_score\n",
    "\n",
    "class DecisionTreeModel:\n",
    "    def __init__(self, max_depth=None):\n",
    "        self.model = DecisionTreeClassifier(max_depth=max_depth)\n",
    "\n",
    "    def train(self, X, y):\n",
    "        self.model.fit(X, y)\n",
    "\n",
    "    def predict(self, X):\n",
    "        return self.model.predict(X)\n",
    "\n",
    "    def evaluate(self, X, y):\n",
    "        predictions = self.model.predict(X)\n",
    "        accuracy = accuracy_score(y, predictions)\n",
    "        precision = precision_score(y, predictions, average='weighted')\n",
    "        recall = recall_score(y, predictions, average='weighted')\n",
    "        f1 = f1_score(y, predictions, average='weighted')\n",
    "        return {\n",
    "            \"accuracy\": accuracy,\n",
    "            \"precision\": precision,\n",
    "            \"recall\": recall,\n",
    "            \"f1_score\": f1,\n",
    "        }\n"
   ]
  }
 ],
 "metadata": {
  "language_info": {
   "name": "python"
  }
 },
 "nbformat": 4,
 "nbformat_minor": 2
}
